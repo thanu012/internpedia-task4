{
  "nbformat": 4,
  "nbformat_minor": 0,
  "metadata": {
    "colab": {
      "provenance": [],
      "include_colab_link": true
    },
    "kernelspec": {
      "name": "python3",
      "display_name": "Python 3"
    },
    "language_info": {
      "name": "python"
    }
  },
  "cells": [
    {
      "cell_type": "markdown",
      "metadata": {
        "id": "view-in-github",
        "colab_type": "text"
      },
      "source": [
        "<a href=\"https://colab.research.google.com/github/thanu012/internpedia-task4/blob/main/Currency.ipynb\" target=\"_parent\"><img src=\"https://colab.research.google.com/assets/colab-badge.svg\" alt=\"Open In Colab\"/></a>"
      ]
    },
    {
      "cell_type": "code",
      "execution_count": null,
      "metadata": {
        "id": "h9AT9FkHfk8V"
      },
      "outputs": [],
      "source": [
        "import requests"
      ]
    },
    {
      "cell_type": "code",
      "source": [
        "CURRENCIES = [\"USD\", \"EUR\", \"GBP\", \"JPY\", \"AUD\", \"CAD\", \"CHF\", \"CNY\", \"SEK\", \"NZD\",\"INR\"]"
      ],
      "metadata": {
        "id": "mcpvWBPHfm6v"
      },
      "execution_count": null,
      "outputs": []
    },
    {
      "cell_type": "code",
      "source": [
        "\n",
        "def fetch_exchange_rate(source_currency, target_currency):\n",
        "    try:\n",
        "        api_key = \"YOUR_API_KEY\"  # Replace with your actual API key\n",
        "        url = f\"https://api.exchangerate-api.com/v4/latest/{source_currency}\"\n",
        "        response = requests.get(url)\n",
        "        response.raise_for_status()\n",
        "        data = response.json()\n",
        "        rate = data['rates'][target_currency]\n",
        "        return rate\n",
        "    except requests.exceptions.RequestException as e:\n",
        "        print(f\"Error fetching exchange rate: {e}\")\n",
        "        return None"
      ],
      "metadata": {
        "id": "cnt6fqX5fyG_"
      },
      "execution_count": null,
      "outputs": []
    },
    {
      "cell_type": "code",
      "source": [
        "def convert_currency(amount, rate):\n",
        "    return amount * rate"
      ],
      "metadata": {
        "id": "7qy7dS6bgClV"
      },
      "execution_count": null,
      "outputs": []
    },
    {
      "cell_type": "code",
      "source": [
        "\n",
        "def get_user_input():\n",
        "    try:\n",
        "        print(\"Available currencies:\", ', '.join(CURRENCIES))\n",
        "        source_currency = input(\"Enter source currency: \").strip().upper()\n",
        "        target_currency = input(\"Enter target currency: \").strip().upper()\n",
        "\n",
        "        if source_currency not in CURRENCIES or target_currency not in CURRENCIES:\n",
        "            raise ValueError(\"Invalid currency code.\")\n",
        "\n",
        "        amount = float(input(\"Enter amount to convert: \"))\n",
        "        if amount <= 0:\n",
        "            raise ValueError(\"Amount must be a positive number.\")\n",
        "\n",
        "        return source_currency, target_currency, amount\n",
        "    except ValueError as e:\n",
        "        print(f\"Invalid input: {e}\")\n",
        "        return None"
      ],
      "metadata": {
        "id": "pr21gdPWgJA5"
      },
      "execution_count": null,
      "outputs": []
    },
    {
      "cell_type": "code",
      "source": [
        "\n",
        "def main():\n",
        "    while True:\n",
        "        user_input = get_user_input()\n",
        "        if not user_input:\n",
        "            continue\n",
        "\n",
        "        source_currency, target_currency, amount = user_input\n",
        "        rate = fetch_exchange_rate(source_currency, target_currency)\n",
        "        if rate is None:\n",
        "            continue\n",
        "\n",
        "        converted_amount = convert_currency(amount, rate)\n",
        "        print(f\"{amount} {source_currency} is equal to {converted_amount:.2f} {target_currency}\")\n",
        "\n",
        "        if input(\"Do you want to convert another amount? (y/n): \").strip().lower() != 'y':\n",
        "            break"
      ],
      "metadata": {
        "id": "aCZhzroRgXkW"
      },
      "execution_count": null,
      "outputs": []
    },
    {
      "cell_type": "code",
      "source": [
        "if __name__ == \"__main__\":\n",
        "    main()"
      ],
      "metadata": {
        "colab": {
          "base_uri": "https://localhost:8080/"
        },
        "id": "P7oxQtglgdC6",
        "outputId": "d51348c1-c014-4aa8-f217-8f77fcef6b4a"
      },
      "execution_count": null,
      "outputs": [
        {
          "name": "stdout",
          "output_type": "stream",
          "text": [
            "Available currencies: USD, EUR, GBP, JPY, AUD, CAD, CHF, CNY, SEK, NZD, INR\n",
            "Enter source currency: inr\n",
            "Enter target currency: usd\n",
            "Enter amount to convert: 500\n",
            "500.0 INR is equal to 6.00 USD\n",
            "Do you want to convert another amount? (y/n): y\n",
            "Available currencies: USD, EUR, GBP, JPY, AUD, CAD, CHF, CNY, SEK, NZD, INR\n",
            "Enter source currency: eur\n",
            "Enter target currency: inr\n",
            "Enter amount to convert: 400\n",
            "400.0 EUR is equal to 35740.00 INR\n",
            "Do you want to convert another amount? (y/n): n\n"
          ]
        }
      ]
    }
  ]
}